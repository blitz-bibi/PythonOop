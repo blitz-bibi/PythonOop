{
  "nbformat": 4,
  "nbformat_minor": 0,
  "metadata": {
    "colab": {
      "name": "inheritance.ipynb",
      "provenance": [],
      "collapsed_sections": []
    },
    "kernelspec": {
      "name": "python3",
      "display_name": "Python 3"
    },
    "language_info": {
      "name": "python"
    }
  },
  "cells": [
    {
      "cell_type": "code",
      "metadata": {
        "colab": {
          "base_uri": "https://localhost:8080/"
        },
        "id": "G3EnguvQLp1o",
        "outputId": "4d2b4911-9843-4d55-e0d7-225e2bf9be58"
      },
      "source": [
        "class Vehicle:\n",
        "  \"\"\"Base class for all vehicles\"\"\"\n",
        "  def __init__(self, name, manufacturer, color):\n",
        "    self.name = name\n",
        "    self.manufacturer = manufacturer\n",
        "    self.color = color\n",
        "\n",
        "\n",
        "  def drive(self):\n",
        "    print(\"Driving \", self.manufacturer, self.name)\n",
        "\n",
        "  def turn(self, direction):\n",
        "    print(\"Turning\", self.name ,\" to \", direction)\n",
        "  \n",
        "  def brake(self):\n",
        "    print(self.name, \" is stopping.\")\n",
        "\n",
        "class Car(Vehicle):\n",
        "  \"\"\" Car class\"\"\"\n",
        "  def __init__(self, name, manufacturer, color, year):\n",
        "    super().__init__(name, manufacturer, color, year):\n",
        "    self.name = name\n",
        "    self.manufacturer = manufacturer\n",
        "    self.color = \"Black\"\n",
        "    self.year = 2017\n",
        "    self.wheels = 4\n",
        "    print(\"It has \", self.wheels, \" wheels\")\n",
        "    print(\"The car was built in \", self.year)\n",
        "\n",
        "  def change_gear(self, gear_name):\n",
        "    \"method of chaging gear\"\n",
        "    print(self.name, \" is changing gear to\", gear_name)\n",
        "\n",
        "c = Car(\"mustung\",\"Ford\",\"red\",2017)\n",
        "  \n",
        "\n"
      ],
      "execution_count": 3,
      "outputs": [
        {
          "output_type": "stream",
          "text": [
            "It has  4  wheels\n",
            "The car was built in  2017\n"
          ],
          "name": "stdout"
        }
      ]
    },
    {
      "cell_type": "code",
      "metadata": {
        "id": "OuuDBPhmQlM_"
      },
      "source": [
        ""
      ],
      "execution_count": null,
      "outputs": []
    }
  ]
}