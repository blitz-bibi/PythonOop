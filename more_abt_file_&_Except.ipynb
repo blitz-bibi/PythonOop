{
  "nbformat": 4,
  "nbformat_minor": 0,
  "metadata": {
    "colab": {
      "name": "more_abt_file_&_Except.ipynb",
      "provenance": []
    },
    "kernelspec": {
      "name": "python3",
      "display_name": "Python 3"
    },
    "language_info": {
      "name": "python"
    }
  },
  "cells": [
    {
      "cell_type": "code",
      "metadata": {
        "colab": {
          "base_uri": "https://localhost:8080/",
          "height": 36
        },
        "id": "6bSzR1B8Utli",
        "outputId": "a1ea205d-1532-4bfa-d171-493b99db4985"
      },
      "source": [
        "pwd"
      ],
      "execution_count": 1,
      "outputs": [
        {
          "output_type": "execute_result",
          "data": {
            "application/vnd.google.colaboratory.intrinsic+json": {
              "type": "string"
            },
            "text/plain": [
              "'/content'"
            ]
          },
          "metadata": {
            "tags": []
          },
          "execution_count": 1
        }
      ]
    },
    {
      "cell_type": "code",
      "metadata": {
        "colab": {
          "base_uri": "https://localhost:8080/"
        },
        "id": "7SNMgpR-VGxT",
        "outputId": "c0ea573d-ced4-4d27-f840-7c8991360604"
      },
      "source": [
        "lines = [\"This is first line.\",\"This is second line.\",\"This is third line.\"]\n",
        "\n",
        "with open(\"File.txt\",\"w\") as fn:\n",
        "  for line in lines:\n",
        "    fn.write(line + \"\\n\")\n",
        "    \n",
        "with open(\"File.txt\",\"r\") as fn2:\n",
        "  content = fn2.read()\n",
        "  print(content)"
      ],
      "execution_count": 4,
      "outputs": [
        {
          "output_type": "stream",
          "text": [
            "This is first line.\n",
            "This is second line.\n",
            "This is third line.\n",
            "\n"
          ],
          "name": "stdout"
        }
      ]
    },
    {
      "cell_type": "code",
      "metadata": {
        "colab": {
          "base_uri": "https://localhost:8080/"
        },
        "id": "m9DI9_kDVioA",
        "outputId": "d2775ced-a53d-4633-e48d-025c397b0ce1"
      },
      "source": [
        "def div(a,b):\n",
        "  try:\n",
        "    return a/b\n",
        "  except ZeroDivisionError:\n",
        "    print(\"Can't divide by Zero!\")\n",
        "  except TypeError:\n",
        "    print(\"Unsupported type. Did you use String?\")\n",
        "\n",
        "print(div(10,2))\n",
        "\n",
        "print(div(10,0))\n",
        "\n",
        "print(div('10',3))"
      ],
      "execution_count": 5,
      "outputs": [
        {
          "output_type": "stream",
          "text": [
            "5.0\n",
            "Can't divide by Zero!\n",
            "None\n",
            "Unsupported type. Did you use String?\n",
            "None\n"
          ],
          "name": "stdout"
        }
      ]
    },
    {
      "cell_type": "code",
      "metadata": {
        "colab": {
          "base_uri": "https://localhost:8080/"
        },
        "id": "cdq6oe9bYCLn",
        "outputId": "3626a7ac-1a01-490e-9c29-e1903784db76"
      },
      "source": [
        "import io\n",
        "\n",
        "filename, mode = \"file.txt\", 'r'\n",
        "\n",
        "try:\n",
        "  with open(filename, mode) as fb:\n",
        "    content = fb.read()\n",
        "    print(content)\n",
        "\n",
        "except Exception as e:\n",
        "  print(e)\n"
      ],
      "execution_count": 6,
      "outputs": [
        {
          "output_type": "stream",
          "text": [
            "[Errno 2] No such file or directory: 'file.txt'\n"
          ],
          "name": "stdout"
        }
      ]
    },
    {
      "cell_type": "code",
      "metadata": {
        "id": "VDMvXqZ7ZoHn"
      },
      "source": [
        ""
      ],
      "execution_count": null,
      "outputs": []
    }
  ]
}